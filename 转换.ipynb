{
 "cells": [
  {
   "cell_type": "code",
   "execution_count": 6,
   "metadata": {},
   "outputs": [],
   "source": [
    "import subprocess\n",
    "\n",
    "# 指定输入和输出文件路径\n",
    "md_file_path = '../辅修.md'\n",
    "txt_file_path = 'output.txt'\n",
    "\n",
    "# 运行已有的Python脚本并传递参数\n",
    "subprocess.run(['python', 'md_to_anki.py', md_file_path, txt_file_path])\n",
    "\n",
    "# 验证输出文件内容\n",
    "with open(txt_file_path, 'r', encoding='utf-8') as file:\n",
    "    converted_content = file.read()\n",
    "\n",
    "# print(converted_content)"
   ]
  },
  {
   "cell_type": "code",
   "execution_count": null,
   "metadata": {},
   "outputs": [],
   "source": []
  }
 ],
 "metadata": {
  "kernelspec": {
   "display_name": "py311",
   "language": "python",
   "name": "python3"
  },
  "language_info": {
   "codemirror_mode": {
    "name": "ipython",
    "version": 3
   },
   "file_extension": ".py",
   "mimetype": "text/x-python",
   "name": "python",
   "nbconvert_exporter": "python",
   "pygments_lexer": "ipython3",
   "version": "3.11.9"
  }
 },
 "nbformat": 4,
 "nbformat_minor": 2
}
